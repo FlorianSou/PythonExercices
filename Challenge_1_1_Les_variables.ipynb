{
 "cells": [
  {
   "cell_type": "markdown",
   "metadata": {
    "id": "p0IY6ccQKu9_"
   },
   "source": [
    "# 1. Les variables"
   ]
  },
  {
   "cell_type": "markdown",
   "metadata": {
    "id": "chbM0tgeZpEf"
   },
   "source": [
    "#### 1.1 Dans les cellules de code ci-dessous, quel est, pour chaque cellule, le type de chaque variable ?"
   ]
  },
  {
   "cell_type": "code",
   "execution_count": 1,
   "metadata": {
    "id": "WjJmN0AxZBLw"
   },
   "outputs": [],
   "source": [
    "count = 5\n",
    "#Int (entier)"
   ]
  },
  {
   "cell_type": "code",
   "execution_count": 2,
   "metadata": {
    "id": "latNGJ8caLkY"
   },
   "outputs": [],
   "source": [
    "greeting = \"Hello World\"\n",
    "#String"
   ]
  },
  {
   "cell_type": "code",
   "execution_count": 3,
   "metadata": {
    "id": "tf7IgsXZa15e"
   },
   "outputs": [],
   "source": [
    "price = 2.5\n",
    "#Float"
   ]
  },
  {
   "cell_type": "code",
   "execution_count": 4,
   "metadata": {
    "id": "lpPCkWfWbY3N"
   },
   "outputs": [],
   "source": [
    "is_active = True\n",
    "#Bool"
   ]
  },
  {
   "cell_type": "markdown",
   "metadata": {
    "id": "J-YXtU1Yb2pi"
   },
   "source": [
    "#### 1.2 Maintenant, vous allez devoir convertir des objets d'un certain type, en un autre type d'objet."
   ]
  },
  {
   "cell_type": "markdown",
   "metadata": {
    "id": "yerUe3q7cMmR"
   },
   "source": [
    "Convertissez la variable `count` en float."
   ]
  },
  {
   "cell_type": "code",
   "execution_count": 5,
   "metadata": {
    "id": "yVs2Ry3NbpEW"
   },
   "outputs": [
    {
     "name": "stdout",
     "output_type": "stream",
     "text": [
      "5.0\n"
     ]
    },
    {
     "data": {
      "text/plain": [
       "float"
      ]
     },
     "execution_count": 5,
     "metadata": {},
     "output_type": "execute_result"
    }
   ],
   "source": [
    "count = 5\n",
    "\n",
    "count = float(count)\n",
    "\n",
    "print(count)\n",
    "\n",
    "type(count)"
   ]
  },
  {
   "cell_type": "markdown",
   "metadata": {
    "id": "q0LodnjUcPyl"
   },
   "source": [
    "Convertissez la variable `price` en int"
   ]
  },
  {
   "cell_type": "code",
   "execution_count": 6,
   "metadata": {
    "id": "0Ffo568UcJBg"
   },
   "outputs": [
    {
     "name": "stdout",
     "output_type": "stream",
     "text": [
      "5\n"
     ]
    }
   ],
   "source": [
    "price = 5.4\n",
    "\n",
    "price = int(price)\n",
    "\n",
    "print(price)"
   ]
  },
  {
   "cell_type": "markdown",
   "metadata": {
    "id": "ZYsPxH7vcho9"
   },
   "source": [
    "Que pouvez-vous remarquer ?"
   ]
  },
  {
   "cell_type": "markdown",
   "metadata": {
    "id": "Le9gddo6ckPP"
   },
   "source": [
    "Réponse: Cela supprime le chiffre après la virgule\n"
   ]
  },
  {
   "cell_type": "markdown",
   "metadata": {
    "id": "YmPGqs_FcmZh"
   },
   "source": [
    "Trouvez le moyen d'arrondir la variable `temperature`."
   ]
  },
  {
   "cell_type": "code",
   "execution_count": 7,
   "metadata": {
    "id": "UUInqFe9cbMJ"
   },
   "outputs": [
    {
     "name": "stdout",
     "output_type": "stream",
     "text": [
      "5\n"
     ]
    },
    {
     "data": {
      "text/plain": [
       "int"
      ]
     },
     "execution_count": 7,
     "metadata": {},
     "output_type": "execute_result"
    }
   ],
   "source": [
    "temperature = 5.3\n",
    "\n",
    "temperature_round = round(temperature)\n",
    "\n",
    "print(temperature_round)\n",
    "\n",
    "type(temperature_round)\n"
   ]
  },
  {
   "cell_type": "code",
   "execution_count": 8,
   "metadata": {},
   "outputs": [
    {
     "name": "stdout",
     "output_type": "stream",
     "text": [
      "2.47\n"
     ]
    }
   ],
   "source": [
    "price = 2.468\n",
    "\n",
    "price_round = round(price, 2)\n",
    "\n",
    "print(price_round)"
   ]
  },
  {
   "cell_type": "markdown",
   "metadata": {
    "id": "OGJ4a9Abc7Jj"
   },
   "source": [
    "Après avoir arrondi la variable `temperature`, est-ce que c'est toujours un `float` ?"
   ]
  },
  {
   "cell_type": "markdown",
   "metadata": {
    "id": "KNqAr-hyHfmZ"
   },
   "source": [
    "Réponse: No, now it's an int"
   ]
  },
  {
   "cell_type": "markdown",
   "metadata": {
    "id": "deL_WAeRdN8Y"
   },
   "source": [
    "Ci-dessous, est-ce que height est un `int` ?"
   ]
  },
  {
   "cell_type": "code",
   "execution_count": 9,
   "metadata": {
    "id": "BZqcem6pcvWh"
   },
   "outputs": [
    {
     "data": {
      "text/plain": [
       "float"
      ]
     },
     "execution_count": 9,
     "metadata": {},
     "output_type": "execute_result"
    }
   ],
   "source": [
    "height = 6.0\n",
    "\n",
    "type(height)"
   ]
  },
  {
   "cell_type": "markdown",
   "metadata": {
    "id": "JxlIV2p8HfmZ"
   },
   "source": [
    "Réponse:No, it's a float"
   ]
  },
  {
   "cell_type": "markdown",
   "metadata": {
    "id": "9KYIUuQ2HfmZ"
   },
   "source": [
    "# 2. Les entrées/sorties"
   ]
  },
  {
   "cell_type": "markdown",
   "metadata": {
    "id": "OQt_WH0qHfmZ"
   },
   "source": [
    "Affichez le message suivant : \"Hello world\"."
   ]
  },
  {
   "cell_type": "code",
   "execution_count": 10,
   "metadata": {
    "id": "ceOB9cK3HfmZ"
   },
   "outputs": [
    {
     "name": "stdout",
     "output_type": "stream",
     "text": [
      "Hello world !\n"
     ]
    }
   ],
   "source": [
    "print(\"Hello world !\")"
   ]
  },
  {
   "cell_type": "markdown",
   "metadata": {
    "id": "Lx7lv0-THfmZ"
   },
   "source": [
    "Demandez à l'utilisateur s'il fait beau aujourd'hui."
   ]
  },
  {
   "cell_type": "code",
   "execution_count": null,
   "metadata": {
    "id": "9ZKeGRJWHfmZ"
   },
   "outputs": [],
   "source": [
    "input(\"Est-ce qu'il fait beau aujourd'hui ? \")"
   ]
  },
  {
   "cell_type": "markdown",
   "metadata": {
    "id": "xVW_TJS7HfmZ"
   },
   "source": [
    "# 3. Tout ensemble !"
   ]
  },
  {
   "cell_type": "markdown",
   "metadata": {
    "id": "243C9wQAHfmZ"
   },
   "source": [
    "Maintenant tu vas combiner tout ce que tu as appris jusqu'à présent !"
   ]
  },
  {
   "cell_type": "markdown",
   "metadata": {
    "id": "WaUho8b2HfmZ"
   },
   "source": [
    "#### 3.1 Première interaction avec l'utilisateur\n",
    "Réalisez les étapes suivantes dans l'ordre :\n",
    " - Demande à l'utilisateur son age et stocke-le dans une variable de type `ìnt`.\n",
    " - Vérifie le type de la variable.\n",
    " - Affiche l'âge de l'utilisateur."
   ]
  },
  {
   "cell_type": "code",
   "execution_count": null,
   "metadata": {
    "id": "KnRegvf4HfmZ"
   },
   "outputs": [],
   "source": []
  },
  {
   "cell_type": "markdown",
   "metadata": {
    "id": "JyW3mtb5HfmZ"
   },
   "source": [
    "#### 3.2 Inversion de deux variables\n",
    "\n",
    "Réalisez les étapes suivantes dans l'ordre :\n",
    " - Demande à l'utilisateur de rentrer deux valeurs et stocke-les dans deux variables différentes (par exemple `x` et `y`).\n",
    " - Effectue l'échange des valeurs entre ces deux variables.\n",
    " - Affiche la valeur des deux variables."
   ]
  },
  {
   "cell_type": "code",
   "execution_count": null,
   "metadata": {
    "id": "0ZG4el4bHfma"
   },
   "outputs": [],
   "source": []
  }
 ],
 "metadata": {
  "colab": {
   "provenance": []
  },
  "kernelspec": {
   "display_name": "3.9.13",
   "language": "python",
   "name": "python3"
  },
  "language_info": {
   "codemirror_mode": {
    "name": "ipython",
    "version": 3
   },
   "file_extension": ".py",
   "mimetype": "text/x-python",
   "name": "python",
   "nbconvert_exporter": "python",
   "pygments_lexer": "ipython3",
   "version": "3.9.13"
  }
 },
 "nbformat": 4,
 "nbformat_minor": 0
}
